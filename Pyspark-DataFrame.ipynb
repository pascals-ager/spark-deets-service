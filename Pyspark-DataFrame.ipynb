{
 "cells": [
  {
   "cell_type": "code",
   "execution_count": 5,
   "metadata": {},
   "outputs": [],
   "source": [
    "from pyspark.sql import SparkSession\n"
   ]
  },
  {
   "cell_type": "code",
   "execution_count": 7,
   "metadata": {},
   "outputs": [],
   "source": [
    "spark = SparkSession.builder.getOrCreate()"
   ]
  },
  {
   "cell_type": "code",
   "execution_count": 26,
   "metadata": {},
   "outputs": [],
   "source": [
    "brochures_path = \"exercise-J/brochures.json\"\n",
    "brochuresDF = spark.read.json(brochures_path)"
   ]
  },
  {
   "cell_type": "code",
   "execution_count": 27,
   "metadata": {},
   "outputs": [],
   "source": [
    "brochures_click_path = \"exercise-J/brochure_clicks.json\"\n",
    "brochuresClickDF = spark.read.json(brochures_click_path)"
   ]
  },
  {
   "cell_type": "code",
   "execution_count": 28,
   "metadata": {},
   "outputs": [],
   "source": [
    "enters_path = \"exercise-J/enters.json\"\n",
    "entersDF = spark.read.json(enters_path)"
   ]
  },
  {
   "cell_type": "code",
   "execution_count": 29,
   "metadata": {},
   "outputs": [],
   "source": [
    "exits_path = \"exercise-J/exits.json\"\n",
    "exitsDF = spark.read.json(exits_path)"
   ]
  },
  {
   "cell_type": "code",
   "execution_count": 31,
   "metadata": {},
   "outputs": [],
   "source": [
    "page_turns_path = \"exercise-J/page_turns.json\"\n",
    "pageTurnsDF = spark.read.json(page_turns_path)"
   ]
  },
  {
   "cell_type": "code",
   "execution_count": 137,
   "metadata": {},
   "outputs": [
    {
     "data": {
      "text/plain": [
       "23"
      ]
     },
     "execution_count": 137,
     "metadata": {},
     "output_type": "execute_result"
    }
   ],
   "source": [
    "brochuresClickDF.select('user_ident').distinct().count()"
   ]
  },
  {
   "cell_type": "code",
   "execution_count": 33,
   "metadata": {},
   "outputs": [
    {
     "name": "stdout",
     "output_type": "stream",
     "text": [
      "root\n",
      " |-- brochure_click_id: long (nullable = true)\n",
      " |-- brochure_click_uuid: string (nullable = true)\n",
      " |-- brochure_id: long (nullable = true)\n",
      " |-- date_time: string (nullable = true)\n",
      " |-- event: string (nullable = true)\n",
      " |-- ip: string (nullable = true)\n",
      " |-- location_device_lat: double (nullable = true)\n",
      " |-- location_device_lng: double (nullable = true)\n",
      " |-- location_intended_lat: double (nullable = true)\n",
      " |-- location_intended_lng: double (nullable = true)\n",
      " |-- no_profile: boolean (nullable = true)\n",
      " |-- page: long (nullable = true)\n",
      " |-- page_type: string (nullable = true)\n",
      " |-- restricted_ip: boolean (nullable = true)\n",
      " |-- traffic_source_type: string (nullable = true)\n",
      " |-- traffic_source_value: string (nullable = true)\n",
      " |-- treatment: string (nullable = true)\n",
      " |-- user_agent: string (nullable = true)\n",
      " |-- user_ident: string (nullable = true)\n",
      " |-- user_zip: string (nullable = true)\n",
      " |-- visit_id: long (nullable = true)\n",
      " |-- visit_origin_type: string (nullable = true)\n",
      "\n"
     ]
    }
   ],
   "source": [
    "brochuresClickDF.printSchema()"
   ]
  },
  {
   "cell_type": "code",
   "execution_count": 34,
   "metadata": {},
   "outputs": [
    {
     "name": "stdout",
     "output_type": "stream",
     "text": [
      "root\n",
      " |-- brochure_click_uuid: string (nullable = true)\n",
      " |-- date_time: string (nullable = true)\n",
      " |-- event: string (nullable = true)\n",
      " |-- ip_address: string (nullable = true)\n",
      " |-- page: long (nullable = true)\n",
      " |-- page_view_mode: string (nullable = true)\n",
      " |-- screen_size: string (nullable = true)\n",
      " |-- user_agent: string (nullable = true)\n",
      "\n"
     ]
    }
   ],
   "source": [
    "entersDF.printSchema()"
   ]
  },
  {
   "cell_type": "code",
   "execution_count": 39,
   "metadata": {},
   "outputs": [
    {
     "name": "stdout",
     "output_type": "stream",
     "text": [
      "root\n",
      " |-- brochure_click_uuid: string (nullable = true)\n",
      " |-- date_time: string (nullable = true)\n",
      " |-- event: string (nullable = true)\n",
      " |-- ip_address: string (nullable = true)\n",
      " |-- page: long (nullable = true)\n",
      " |-- page_view_mode: string (nullable = true)\n",
      " |-- user_agent: string (nullable = true)\n",
      "\n"
     ]
    }
   ],
   "source": [
    "exitsDF.printSchema()"
   ]
  },
  {
   "cell_type": "code",
   "execution_count": 40,
   "metadata": {},
   "outputs": [
    {
     "name": "stdout",
     "output_type": "stream",
     "text": [
      "root\n",
      " |-- brochure_click_uuid: string (nullable = true)\n",
      " |-- date_time: string (nullable = true)\n",
      " |-- event: string (nullable = true)\n",
      " |-- ip_address: string (nullable = true)\n",
      " |-- page: long (nullable = true)\n",
      " |-- page_view_mode: string (nullable = true)\n",
      " |-- user_agent: string (nullable = true)\n",
      "\n"
     ]
    }
   ],
   "source": [
    "pageTurnsDF.printSchema()"
   ]
  },
  {
   "cell_type": "code",
   "execution_count": 41,
   "metadata": {},
   "outputs": [
    {
     "data": {
      "text/plain": [
       "30"
      ]
     },
     "execution_count": 41,
     "metadata": {},
     "output_type": "execute_result"
    }
   ],
   "source": [
    "brochuresClickDF.count()"
   ]
  },
  {
   "cell_type": "code",
   "execution_count": 42,
   "metadata": {},
   "outputs": [
    {
     "data": {
      "text/plain": [
       "30"
      ]
     },
     "execution_count": 42,
     "metadata": {},
     "output_type": "execute_result"
    }
   ],
   "source": [
    "entersDF.count()"
   ]
  },
  {
   "cell_type": "code",
   "execution_count": 43,
   "metadata": {},
   "outputs": [
    {
     "data": {
      "text/plain": [
       "23"
      ]
     },
     "execution_count": 43,
     "metadata": {},
     "output_type": "execute_result"
    }
   ],
   "source": [
    "exitsDF.count()"
   ]
  },
  {
   "cell_type": "code",
   "execution_count": 44,
   "metadata": {},
   "outputs": [
    {
     "data": {
      "text/plain": [
       "317"
      ]
     },
     "execution_count": 44,
     "metadata": {},
     "output_type": "execute_result"
    }
   ],
   "source": [
    "pageTurnsDF.count()"
   ]
  },
  {
   "cell_type": "code",
   "execution_count": 62,
   "metadata": {},
   "outputs": [],
   "source": [
    "pageTurnsClick = pageTurnsDF.join(brochuresClickDF, pageTurnsDF.brochure_click_uuid == brochuresClickDF.brochure_click_uuid, \"inner\")"
   ]
  },
  {
   "cell_type": "code",
   "execution_count": 131,
   "metadata": {},
   "outputs": [],
   "source": [
    "from pyspark.sql.functions import col, when"
   ]
  },
  {
   "cell_type": "code",
   "execution_count": 99,
   "metadata": {},
   "outputs": [],
   "source": [
    "pageTurnsClick = brochuresClickDF.alias('broch').join(pageTurnsDF.alias('turn'), col('broch.brochure_click_uuid') == col('turn.brochure_click_uuid'), \"right\").select([col('broch.user_ident')] + [col('turn.'+col_name) for col_name in pageTurnsDF.columns])"
   ]
  },
  {
   "cell_type": "code",
   "execution_count": 100,
   "metadata": {},
   "outputs": [
    {
     "data": {
      "text/plain": [
       "317"
      ]
     },
     "execution_count": 100,
     "metadata": {},
     "output_type": "execute_result"
    }
   ],
   "source": [
    "pageTurnsClick.count()"
   ]
  },
  {
   "cell_type": "code",
   "execution_count": 110,
   "metadata": {},
   "outputs": [
    {
     "data": {
      "text/plain": [
       "14"
      ]
     },
     "execution_count": 110,
     "metadata": {},
     "output_type": "execute_result"
    }
   ],
   "source": [
    "pageTurnsClick.select('user_ident').distinct().count()"
   ]
  },
  {
   "cell_type": "code",
   "execution_count": 210,
   "metadata": {},
   "outputs": [],
   "source": [
    "userAcessCountDF = pageTurnsClick.alias('pturn').groupBy(col('pturn.user_ident'), col('pturn.page_view_mode')).count()"
   ]
  },
  {
   "cell_type": "code",
   "execution_count": 211,
   "metadata": {},
   "outputs": [
    {
     "data": {
      "text/plain": [
       "14"
      ]
     },
     "execution_count": 211,
     "metadata": {},
     "output_type": "execute_result"
    }
   ],
   "source": [
    "userAcessCountDF.count()"
   ]
  },
  {
   "cell_type": "code",
   "execution_count": 212,
   "metadata": {},
   "outputs": [
    {
     "name": "stdout",
     "output_type": "stream",
     "text": [
      "+--------------------+----------------+-----+\n",
      "|          user_ident|  page_view_mode|count|\n",
      "+--------------------+----------------+-----+\n",
      "|     146360126356971|DOUBLE_PAGE_MODE|   30|\n",
      "|F85CBA86-4235-419...|SINGLE_PAGE_MODE|    3|\n",
      "|a4e2a425-20bc-4f9...|SINGLE_PAGE_MODE|    8|\n",
      "|84361a5c-77a3-426...|DOUBLE_PAGE_MODE|   22|\n",
      "|c1e2e57d-fc17-472...|SINGLE_PAGE_MODE|   31|\n",
      "|b27f05d4-0754-42b...|SINGLE_PAGE_MODE|   10|\n",
      "|139aea9c-fc2a-426...|SINGLE_PAGE_MODE|    1|\n",
      "|a53bc825-baa2-4f8...|SINGLE_PAGE_MODE|   32|\n",
      "|22c49150-dcf7-4ed...|SINGLE_PAGE_MODE|   33|\n",
      "|1d11ba6f-d70d-42b...|SINGLE_PAGE_MODE|   14|\n",
      "|7C2F34AC-7D0B-40F...|SINGLE_PAGE_MODE|   14|\n",
      "|98dbada0-46ad-4ec...|SINGLE_PAGE_MODE|   54|\n",
      "|b513b27e-470f-405...|SINGLE_PAGE_MODE|   19|\n",
      "|1DD2DCD8-78D1-440...|SINGLE_PAGE_MODE|   46|\n",
      "+--------------------+----------------+-----+\n",
      "\n"
     ]
    }
   ],
   "source": [
    "userAcessCountDF.show()"
   ]
  },
  {
   "cell_type": "code",
   "execution_count": 215,
   "metadata": {},
   "outputs": [],
   "source": [
    "userAcessAggDF = userAcessCountDF.withColumn('aggregate', when(col('page_view_mode')=='DOUBLE_PAGE_MODE', col('count')*2).when(col('page_view_mode')=='SINGLE_PAGE_MODE', col('count')*1).otherwise(0))"
   ]
  },
  {
   "cell_type": "code",
   "execution_count": 216,
   "metadata": {},
   "outputs": [
    {
     "data": {
      "text/plain": [
       "14"
      ]
     },
     "execution_count": 216,
     "metadata": {},
     "output_type": "execute_result"
    }
   ],
   "source": [
    "userAcessAggDF.count()"
   ]
  },
  {
   "cell_type": "code",
   "execution_count": 219,
   "metadata": {},
   "outputs": [
    {
     "name": "stdout",
     "output_type": "stream",
     "text": [
      "+--------------------+--------------+\n",
      "|          user_ident|sum(aggregate)|\n",
      "+--------------------+--------------+\n",
      "|a53bc825-baa2-4f8...|            32|\n",
      "|F85CBA86-4235-419...|             3|\n",
      "|b513b27e-470f-405...|            19|\n",
      "|1d11ba6f-d70d-42b...|            14|\n",
      "|c1e2e57d-fc17-472...|            31|\n",
      "|b27f05d4-0754-42b...|            10|\n",
      "|1DD2DCD8-78D1-440...|            46|\n",
      "|a4e2a425-20bc-4f9...|             8|\n",
      "|7C2F34AC-7D0B-40F...|            14|\n",
      "|84361a5c-77a3-426...|            44|\n",
      "|22c49150-dcf7-4ed...|            33|\n",
      "|98dbada0-46ad-4ec...|            54|\n",
      "|     146360126356971|            60|\n",
      "|139aea9c-fc2a-426...|             1|\n",
      "+--------------------+--------------+\n",
      "\n"
     ]
    }
   ],
   "source": [
    "userAcessAggDF.groupBy('user_ident').sum('aggregate').show()"
   ]
  },
  {
   "cell_type": "code",
   "execution_count": null,
   "metadata": {},
   "outputs": [],
   "source": []
  },
  {
   "cell_type": "code",
   "execution_count": 138,
   "metadata": {},
   "outputs": [],
   "source": [
    "entersClick = brochuresClickDF.alias('broch').join(entersDF.alias('enter'), col('broch.brochure_click_uuid') == col('enter.brochure_click_uuid'), \"right\").select([col('broch.user_ident')] + [col('enter.'+col_name) for col_name in entersDF.columns])"
   ]
  },
  {
   "cell_type": "code",
   "execution_count": 142,
   "metadata": {},
   "outputs": [
    {
     "data": {
      "text/plain": [
       "23"
      ]
     },
     "execution_count": 142,
     "metadata": {},
     "output_type": "execute_result"
    }
   ],
   "source": [
    "entersClick.select('user_ident').distinct().count()"
   ]
  },
  {
   "cell_type": "code",
   "execution_count": 143,
   "metadata": {},
   "outputs": [
    {
     "name": "stdout",
     "output_type": "stream",
     "text": [
      "+--------------------+--------------------+--------------------+----------+--------------+----+----------------+-----------+--------------------+\n",
      "|          user_ident| brochure_click_uuid|           date_time|     event|    ip_address|page|  page_view_mode|screen_size|          user_agent|\n",
      "+--------------------+--------------------+--------------------+----------+--------------+----+----------------+-----------+--------------------+\n",
      "|1DD2DCD8-78D1-440...|015242a1-ef18-435...|2016-07-12 02:20:...|ENTER_VIEW|  134.3.157.XX|   1|SINGLE_PAGE_MODE|       null|KaufDA/1 CFNetwor...|\n",
      "|84361a5c-77a3-426...|0017a3da-f18a-4fc...|2016-07-12 18:26:...|ENTER_VIEW|  134.3.254.XX|   1|SINGLE_PAGE_MODE|       null|samsung Android(r...|\n",
      "|     146360126356971|0092f04a-c2e7-40d...|2016-07-13 01:13:...|ENTER_VIEW| 109.193.87.XX|   0|DOUBLE_PAGE_MODE|  1080x1920|Mozilla/5.0 (Wind...|\n",
      "|     146360126356971|008421b4-ae52-45c...|2016-07-12 11:32:...|ENTER_VIEW| 109.193.87.XX|   0|DOUBLE_PAGE_MODE|  1080x1920|Mozilla/5.0 (Wind...|\n",
      "|1d11ba6f-d70d-42b...|01163058-2f9c-4ed...|2016-07-12 12:44:...|ENTER_VIEW|  134.3.254.XX|   1|SINGLE_PAGE_MODE|       null|kaufda Android(re...|\n",
      "|     144923378963272|014282ea-1a05-4e5...|2016-07-12 09:12:...|ENTER_VIEW| 141.113.11.XX|   0|DOUBLE_PAGE_MODE|   800x1280|Mozilla/5.0 (Wind...|\n",
      "|22c49150-dcf7-4ed...|00555189-fdb4-434...|2016-07-12 13:36:...|ENTER_VIEW|    46.5.16.XX|   1|SINGLE_PAGE_MODE|       null|kaufda Android(re...|\n",
      "|b513b27e-470f-405...|00e0f9ca-d4b9-47f...|2016-07-12 23:56:...|ENTER_VIEW| 95.208.248.XX|   1|SINGLE_PAGE_MODE|       null|kaufda Android(re...|\n",
      "|a53bc825-baa2-4f8...|01164b90-4d93-449...|2016-07-12 18:47:...|ENTER_VIEW|   46.5.254.XX|   1|SINGLE_PAGE_MODE|       null|kaufda Android(re...|\n",
      "|F85CBA86-4235-419...|00f5699e-12c7-473...|2016-07-13 00:06:...|ENTER_VIEW| 93.235.241.XX|  38|SINGLE_PAGE_MODE|       null|KaufDA/1 CFNetwor...|\n",
      "|98dbada0-46ad-4ec...|00180b74-93f1-417...|2016-07-13 06:59:...|ENTER_VIEW|   109.43.2.XX|   1|SINGLE_PAGE_MODE|       null|kaufda Android(re...|\n",
      "|7C2F34AC-7D0B-40F...|0228f8c0-1abb-447...|2016-07-13 11:15:...|ENTER_VIEW|  95.91.235.XX|   1|SINGLE_PAGE_MODE|       null|KaufDA/1 CFNetwor...|\n",
      "|98dbada0-46ad-4ec...|025e7ea5-bc54-41f...|2016-07-13 10:20:...|ENTER_VIEW| 178.27.156.XX|   1|SINGLE_PAGE_MODE|       null|kaufda Android(re...|\n",
      "|b27f05d4-0754-42b...|0105595a-896c-461...|2016-07-13 15:35:...|ENTER_VIEW|  93.104.13.XX|   1|SINGLE_PAGE_MODE|       null|kaufda Android(re...|\n",
      "|98dbada0-46ad-4ec...|0145ba57-0c27-4ae...|2016-07-13 19:08:...|ENTER_VIEW|   92.74.36.XX|   1|SINGLE_PAGE_MODE|       null|samsung Android(r...|\n",
      "|a1085c7a-3116-4d0...|0023d1d2-2892-4ac...|2016-07-13 06:42:...|ENTER_VIEW| 84.164.113.XX|   1|SINGLE_PAGE_MODE|       null|kaufda Android(re...|\n",
      "|98dbada0-46ad-4ec...|019439c7-1747-431...|2016-07-13 06:47:...|ENTER_VIEW| 185.17.205.XX|   1|SINGLE_PAGE_MODE|       null|kaufda Android(re...|\n",
      "|c1e2e57d-fc17-472...|00abad0f-87c8-44b...|2016-07-13 07:54:...|ENTER_VIEW|  95.91.233.XX|   1|SINGLE_PAGE_MODE|       null|samsung Android(r...|\n",
      "|1c787be4-50af-4ac...|01748634-517d-449...|2016-07-13 09:18:...|ENTER_VIEW|217.238.233.XX|   1|SINGLE_PAGE_MODE|       null|samsung Android(r...|\n",
      "|a4e2a425-20bc-4f9...|00918ef7-1d29-411...|2016-07-13 07:36:...|ENTER_VIEW|  89.15.102.XX|   1|SINGLE_PAGE_MODE|       null|kaufda Android(re...|\n",
      "+--------------------+--------------------+--------------------+----------+--------------+----+----------------+-----------+--------------------+\n",
      "only showing top 20 rows\n",
      "\n"
     ]
    }
   ],
   "source": [
    "entersClick.show()"
   ]
  },
  {
   "cell_type": "code",
   "execution_count": 148,
   "metadata": {},
   "outputs": [],
   "source": [
    "entersCountDF = entersClick.alias('penter').groupBy(col('penter.user_ident'), col('penter.page_view_mode')).count()"
   ]
  },
  {
   "cell_type": "code",
   "execution_count": 174,
   "metadata": {},
   "outputs": [
    {
     "name": "stdout",
     "output_type": "stream",
     "text": [
      "root\n",
      " |-- user_ident: string (nullable = true)\n",
      " |-- page_view_mode: string (nullable = true)\n",
      " |-- count: long (nullable = false)\n",
      "\n"
     ]
    }
   ],
   "source": [
    "entersCountDF.printSchema()"
   ]
  },
  {
   "cell_type": "code",
   "execution_count": 203,
   "metadata": {},
   "outputs": [],
   "source": [
    "entersAggDF = entersCountDF.withColumn('aggregate', when(col('page_view_mode')=='DOUBLE_PAGE_MODE', col('count')*2).when(col('page_view_mode')=='SINGLE_PAGE_MODE', col('count')*1).otherwise(0))"
   ]
  },
  {
   "cell_type": "code",
   "execution_count": 204,
   "metadata": {},
   "outputs": [
    {
     "data": {
      "text/plain": [
       "17"
      ]
     },
     "execution_count": 204,
     "metadata": {},
     "output_type": "execute_result"
    }
   ],
   "source": [
    "entersAggDF.select('user_ident').distinct().count()"
   ]
  },
  {
   "cell_type": "code",
   "execution_count": 205,
   "metadata": {},
   "outputs": [
    {
     "name": "stdout",
     "output_type": "stream",
     "text": [
      "+--------------------+----------------+-----+---------+\n",
      "|          user_ident|  page_view_mode|count|aggregate|\n",
      "+--------------------+----------------+-----+---------+\n",
      "|37EB8482-47B1-48D...|SINGLE_PAGE_MODE|    1|        1|\n",
      "|     146360126356971|DOUBLE_PAGE_MODE|    2|        4|\n",
      "|F85CBA86-4235-419...|SINGLE_PAGE_MODE|    1|        1|\n",
      "|a4e2a425-20bc-4f9...|SINGLE_PAGE_MODE|    1|        1|\n",
      "|01475b09-aa3e-432...|SINGLE_PAGE_MODE|    1|        1|\n",
      "|c1e2e57d-fc17-472...|SINGLE_PAGE_MODE|    1|        1|\n",
      "|84361a5c-77a3-426...|SINGLE_PAGE_MODE|    2|        2|\n",
      "|22c49150-dcf7-4ed...|SINGLE_PAGE_MODE|    1|        1|\n",
      "|     144923378963272|DOUBLE_PAGE_MODE|    1|        2|\n",
      "|4dc8ec5d-303d-4b4...|SINGLE_PAGE_MODE|    1|        1|\n",
      "|1d11ba6f-d70d-42b...|SINGLE_PAGE_MODE|    1|        1|\n",
      "|7C2F34AC-7D0B-40F...|SINGLE_PAGE_MODE|    1|        1|\n",
      "|98dbada0-46ad-4ec...|SINGLE_PAGE_MODE|    3|        3|\n",
      "|a1085c7a-3116-4d0...|SINGLE_PAGE_MODE|    3|        3|\n",
      "|b513b27e-470f-405...|SINGLE_PAGE_MODE|    1|        1|\n",
      "|1DD2DCD8-78D1-440...|SINGLE_PAGE_MODE|    1|        1|\n",
      "|7857bdd0-c7f0-4a2...|SINGLE_PAGE_MODE|    1|        1|\n",
      "+--------------------+----------------+-----+---------+\n",
      "\n"
     ]
    }
   ],
   "source": [
    "entersAggDF.show()"
   ]
  },
  {
   "cell_type": "code",
   "execution_count": 209,
   "metadata": {},
   "outputs": [
    {
     "name": "stdout",
     "output_type": "stream",
     "text": [
      "+--------------------+--------------+\n",
      "|          user_ident|sum(aggregate)|\n",
      "+--------------------+--------------+\n",
      "|01475b09-aa3e-432...|             1|\n",
      "|F85CBA86-4235-419...|             1|\n",
      "|7857bdd0-c7f0-4a2...|             1|\n",
      "|b513b27e-470f-405...|             1|\n",
      "|1d11ba6f-d70d-42b...|             1|\n",
      "|c1e2e57d-fc17-472...|             1|\n",
      "|4dc8ec5d-303d-4b4...|             1|\n",
      "|1DD2DCD8-78D1-440...|             1|\n",
      "|a4e2a425-20bc-4f9...|             1|\n",
      "|a1085c7a-3116-4d0...|             3|\n",
      "|7C2F34AC-7D0B-40F...|             1|\n",
      "|84361a5c-77a3-426...|             2|\n",
      "|22c49150-dcf7-4ed...|             1|\n",
      "|98dbada0-46ad-4ec...|             3|\n",
      "|     146360126356971|             4|\n",
      "|     144923378963272|             2|\n",
      "|37EB8482-47B1-48D...|             1|\n",
      "+--------------------+--------------+\n",
      "\n"
     ]
    }
   ],
   "source": [
    "entersAggDF.groupBy('user_ident').sum('aggregate').show()"
   ]
  },
  {
   "cell_type": "code",
   "execution_count": 145,
   "metadata": {},
   "outputs": [],
   "source": [
    "exitsClick = brochuresClickDF.alias('broch').join(exitsDF.alias('exit'), col('broch.brochure_click_uuid') == col('exit.brochure_click_uuid'), \"right\").select([col('broch.user_ident')] + [col('exit.'+col_name) for col_name in exitsDF.columns])"
   ]
  },
  {
   "cell_type": "code",
   "execution_count": 146,
   "metadata": {},
   "outputs": [
    {
     "data": {
      "text/plain": [
       "17"
      ]
     },
     "execution_count": 146,
     "metadata": {},
     "output_type": "execute_result"
    }
   ],
   "source": [
    "exitsClick.select('user_ident').distinct().count()"
   ]
  },
  {
   "cell_type": "code",
   "execution_count": 147,
   "metadata": {},
   "outputs": [
    {
     "name": "stdout",
     "output_type": "stream",
     "text": [
      "+--------------------+--------------------+--------------------+---------+-------------+----+----------------+--------------------+\n",
      "|          user_ident| brochure_click_uuid|           date_time|    event|   ip_address|page|  page_view_mode|          user_agent|\n",
      "+--------------------+--------------------+--------------------+---------+-------------+----+----------------+--------------------+\n",
      "|     144923378963272|014282ea-1a05-4e5...|2016-07-12 09:12:...|EXIT_VIEW|141.113.11.XX|   0|DOUBLE_PAGE_MODE|Mozilla/5.0 (Wind...|\n",
      "|22c49150-dcf7-4ed...|00555189-fdb4-434...|2016-07-12 13:38:...|EXIT_VIEW|   46.5.16.XX|  28|SINGLE_PAGE_MODE|kaufda Android(re...|\n",
      "|F85CBA86-4235-419...|00f5699e-12c7-473...|2016-07-13 00:06:...|EXIT_VIEW|93.235.241.XX|  41|SINGLE_PAGE_MODE|KaufDA/1 CFNetwor...|\n",
      "|1d11ba6f-d70d-42b...|01163058-2f9c-4ed...|2016-07-12 12:44:...|EXIT_VIEW| 134.3.254.XX|  15|SINGLE_PAGE_MODE|kaufda Android(re...|\n",
      "|b513b27e-470f-405...|00e0f9ca-d4b9-47f...|2016-07-12 23:57:...|EXIT_VIEW|95.208.248.XX|  18|SINGLE_PAGE_MODE|kaufda Android(re...|\n",
      "|84361a5c-77a3-426...|0017a3da-f18a-4fc...|2016-07-12 18:27:...|EXIT_VIEW| 134.3.254.XX|  41|SINGLE_PAGE_MODE|samsung Android(r...|\n",
      "|1DD2DCD8-78D1-440...|015242a1-ef18-435...|2016-07-12 02:21:...|EXIT_VIEW| 134.3.157.XX|  41|SINGLE_PAGE_MODE|KaufDA/1 CFNetwor...|\n",
      "|     146360126356971|008421b4-ae52-45c...|2016-07-12 11:33:...|EXIT_VIEW|109.193.87.XX|  28|DOUBLE_PAGE_MODE|Mozilla/5.0 (Wind...|\n",
      "|84361a5c-77a3-426...|0017a3da-f18a-4fc...|2016-07-12 18:26:...|EXIT_VIEW| 134.3.254.XX|  32|SINGLE_PAGE_MODE|samsung Android(r...|\n",
      "|     146360126356971|0092f04a-c2e7-40d...|2016-07-13 01:16:...|EXIT_VIEW|109.193.87.XX|  32|DOUBLE_PAGE_MODE|Mozilla/5.0 (Wind...|\n",
      "|a1085c7a-3116-4d0...|0023d1d2-2892-4ac...|2016-07-13 06:42:...|EXIT_VIEW|84.164.113.XX|   6|SINGLE_PAGE_MODE|kaufda Android(re...|\n",
      "|98dbada0-46ad-4ec...|0145ba57-0c27-4ae...|2016-07-13 19:08:...|EXIT_VIEW|  92.74.36.XX|   2|SINGLE_PAGE_MODE|samsung Android(r...|\n",
      "|a4e2a425-20bc-4f9...|00918ef7-1d29-411...|2016-07-13 07:36:...|EXIT_VIEW| 89.15.102.XX|   9|SINGLE_PAGE_MODE|kaufda Android(re...|\n",
      "|c1e2e57d-fc17-472...|00abad0f-87c8-44b...|2016-07-13 07:55:...|EXIT_VIEW| 95.91.233.XX|  20|SINGLE_PAGE_MODE|samsung Android(r...|\n",
      "|98dbada0-46ad-4ec...|019439c7-1747-431...|2016-07-13 06:47:...|EXIT_VIEW|185.17.205.XX|  20|SINGLE_PAGE_MODE|kaufda Android(re...|\n",
      "|98dbada0-46ad-4ec...|00180b74-93f1-417...|2016-07-13 08:20:...|EXIT_VIEW|  109.43.2.XX|  12|SINGLE_PAGE_MODE|kaufda Android(re...|\n",
      "|7C2F34AC-7D0B-40F...|0228f8c0-1abb-447...|2016-07-13 11:21:...|EXIT_VIEW| 95.91.235.XX|   9|SINGLE_PAGE_MODE|KaufDA/1 CFNetwor...|\n",
      "|37EB8482-47B1-48D...|0107c986-4881-45d...|2016-07-12 19:42:...|EXIT_VIEW| 37.24.155.XX|   1|SINGLE_PAGE_MODE|KaufDA/1 CFNetwor...|\n",
      "|7857bdd0-c7f0-4a2...|00d84e99-dfc9-484...|2016-07-12 21:43:...|EXIT_VIEW| 88.76.170.XX|   1|SINGLE_PAGE_MODE|kaufda Android(re...|\n",
      "|a1085c7a-3116-4d0...|0154c254-97b0-4ec...|2016-07-12 13:22:...|EXIT_VIEW| 94.114.32.XX|   1|SINGLE_PAGE_MODE|samsung Android(r...|\n",
      "+--------------------+--------------------+--------------------+---------+-------------+----+----------------+--------------------+\n",
      "only showing top 20 rows\n",
      "\n"
     ]
    }
   ],
   "source": [
    "exitsClick.show()"
   ]
  },
  {
   "cell_type": "code",
   "execution_count": 186,
   "metadata": {},
   "outputs": [],
   "source": [
    "exitsCountDF = exitsClick.alias('pexit').groupBy(col('pexit.user_ident'), col('pexit.page_view_mode')).count()"
   ]
  },
  {
   "cell_type": "code",
   "execution_count": 196,
   "metadata": {},
   "outputs": [],
   "source": [
    "from pyspark.sql.types import IntegerType"
   ]
  },
  {
   "cell_type": "code",
   "execution_count": 197,
   "metadata": {},
   "outputs": [],
   "source": [
    "exitsAggDF = exitsCountDF.withColumn('aggregate', when(col('page_view_mode')=='DOUBLE_PAGE_MODE', col('count')*2).when(col('page_view_mode')=='SINGLE_PAGE_MODE', col('count')*1).otherwise(0))"
   ]
  },
  {
   "cell_type": "code",
   "execution_count": 198,
   "metadata": {},
   "outputs": [
    {
     "data": {
      "text/plain": [
       "17"
      ]
     },
     "execution_count": 198,
     "metadata": {},
     "output_type": "execute_result"
    }
   ],
   "source": [
    "exitsAggDF.select('user_ident').distinct().count()"
   ]
  },
  {
   "cell_type": "code",
   "execution_count": 199,
   "metadata": {},
   "outputs": [
    {
     "name": "stdout",
     "output_type": "stream",
     "text": [
      "+--------------------+----------------+-----+---------+\n",
      "|          user_ident|  page_view_mode|count|aggregate|\n",
      "+--------------------+----------------+-----+---------+\n",
      "|37EB8482-47B1-48D...|SINGLE_PAGE_MODE|    1|        1|\n",
      "|     146360126356971|DOUBLE_PAGE_MODE|    2|        4|\n",
      "|F85CBA86-4235-419...|SINGLE_PAGE_MODE|    1|        1|\n",
      "|a4e2a425-20bc-4f9...|SINGLE_PAGE_MODE|    1|        1|\n",
      "|01475b09-aa3e-432...|SINGLE_PAGE_MODE|    1|        1|\n",
      "|c1e2e57d-fc17-472...|SINGLE_PAGE_MODE|    1|        1|\n",
      "|84361a5c-77a3-426...|SINGLE_PAGE_MODE|    2|        2|\n",
      "|22c49150-dcf7-4ed...|SINGLE_PAGE_MODE|    1|        1|\n",
      "|     144923378963272|DOUBLE_PAGE_MODE|    1|        2|\n",
      "|4dc8ec5d-303d-4b4...|SINGLE_PAGE_MODE|    1|        1|\n",
      "|1d11ba6f-d70d-42b...|SINGLE_PAGE_MODE|    1|        1|\n",
      "|7C2F34AC-7D0B-40F...|SINGLE_PAGE_MODE|    1|        1|\n",
      "|98dbada0-46ad-4ec...|SINGLE_PAGE_MODE|    3|        3|\n",
      "|a1085c7a-3116-4d0...|SINGLE_PAGE_MODE|    3|        3|\n",
      "|b513b27e-470f-405...|SINGLE_PAGE_MODE|    1|        1|\n",
      "|1DD2DCD8-78D1-440...|SINGLE_PAGE_MODE|    1|        1|\n",
      "|7857bdd0-c7f0-4a2...|SINGLE_PAGE_MODE|    1|        1|\n",
      "+--------------------+----------------+-----+---------+\n",
      "\n"
     ]
    }
   ],
   "source": [
    "exitsAggDF.show()"
   ]
  },
  {
   "cell_type": "code",
   "execution_count": 200,
   "metadata": {},
   "outputs": [
    {
     "name": "stdout",
     "output_type": "stream",
     "text": [
      "root\n",
      " |-- user_ident: string (nullable = true)\n",
      " |-- page_view_mode: string (nullable = true)\n",
      " |-- count: long (nullable = false)\n",
      " |-- aggregate: long (nullable = false)\n",
      "\n"
     ]
    }
   ],
   "source": [
    "exitsAggDF.printSchema()"
   ]
  },
  {
   "cell_type": "code",
   "execution_count": 202,
   "metadata": {},
   "outputs": [
    {
     "name": "stdout",
     "output_type": "stream",
     "text": [
      "+--------------------+--------------+\n",
      "|          user_ident|sum(aggregate)|\n",
      "+--------------------+--------------+\n",
      "|01475b09-aa3e-432...|             1|\n",
      "|F85CBA86-4235-419...|             1|\n",
      "|7857bdd0-c7f0-4a2...|             1|\n",
      "|b513b27e-470f-405...|             1|\n",
      "|1d11ba6f-d70d-42b...|             1|\n",
      "|c1e2e57d-fc17-472...|             1|\n",
      "|4dc8ec5d-303d-4b4...|             1|\n",
      "|1DD2DCD8-78D1-440...|             1|\n",
      "|a4e2a425-20bc-4f9...|             1|\n",
      "|a1085c7a-3116-4d0...|             3|\n",
      "|7C2F34AC-7D0B-40F...|             1|\n",
      "|84361a5c-77a3-426...|             2|\n",
      "|22c49150-dcf7-4ed...|             1|\n",
      "|98dbada0-46ad-4ec...|             3|\n",
      "|     146360126356971|             4|\n",
      "|     144923378963272|             2|\n",
      "|37EB8482-47B1-48D...|             1|\n",
      "+--------------------+--------------+\n",
      "\n"
     ]
    }
   ],
   "source": [
    "exitsAggDF.groupBy('user_ident').sum('aggregate').show()"
   ]
  }
 ],
 "metadata": {
  "kernelspec": {
   "display_name": "Python [conda env:spark] *",
   "language": "python",
   "name": "conda-env-spark-py"
  },
  "language_info": {
   "codemirror_mode": {
    "name": "ipython",
    "version": 3
   },
   "file_extension": ".py",
   "mimetype": "text/x-python",
   "name": "python",
   "nbconvert_exporter": "python",
   "pygments_lexer": "ipython3",
   "version": "3.6.8"
  }
 },
 "nbformat": 4,
 "nbformat_minor": 2
}
